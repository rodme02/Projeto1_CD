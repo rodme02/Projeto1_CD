{
 "cells": [
  {
   "cell_type": "markdown",
   "metadata": {},
   "source": [
    "# Projeto 1 - Ciência dos Dados"
   ]
  },
  {
   "cell_type": "markdown",
   "metadata": {},
   "source": [
    "Nome: Vitor Fortes Giuliano Riccetti \n",
    "\n",
    "Nome: Rodrigo Paoliello de Medeiros"
   ]
  },
  {
   "cell_type": "markdown",
   "metadata": {},
   "source": [
    "**Atenção:** Serão permitidos grupos de três pessoas, mas com uma rubrica mais exigente. Grupos deste tamanho precisarão fazer um questionário de avaliação de trabalho em equipe"
   ]
  },
  {
   "cell_type": "markdown",
   "metadata": {},
   "source": [
    "___\n",
    "Carregando algumas bibliotecas:"
   ]
  },
  {
   "cell_type": "code",
   "execution_count": 1,
   "metadata": {},
   "outputs": [],
   "source": [
    "%matplotlib inline\n",
    "import pandas as pd\n",
    "import matplotlib.pyplot as plt\n",
    "import numpy as np\n",
    "import os\n",
    "import re "
   ]
  },
  {
   "cell_type": "markdown",
   "metadata": {},
   "source": [
    "**Em `filename`, coloque o nome do seu arquivo de dados!**"
   ]
  },
  {
   "cell_type": "code",
   "execution_count": 2,
   "metadata": {
    "scrolled": false
   },
   "outputs": [
    {
     "name": "stdout",
     "output_type": "stream",
     "text": [
      "Encontrei o arquivo Chuteira_Puma.xlsx, tudo certo para prosseguir com a prova!\n"
     ]
    }
   ],
   "source": [
    "import os\n",
    "\n",
    "filename = 'Chuteira_Puma.xlsx'\n",
    "if filename in os.listdir():\n",
    "    print(f'Encontrei o arquivo {filename}, tudo certo para prosseguir com a prova!')\n",
    "else:\n",
    "    print(f'Não encontrei o arquivo {filename} aqui no diretório {os.getcwd()}, será que você não baixou o arquivo?')"
   ]
  },
  {
   "cell_type": "markdown",
   "metadata": {},
   "source": [
    "Carregando a base de dados com os tweets classificados como relevantes e não relevantes:"
   ]
  },
  {
   "cell_type": "code",
   "execution_count": 3,
   "metadata": {},
   "outputs": [
    {
     "data": {
      "text/html": [
       "<div>\n",
       "<style scoped>\n",
       "    .dataframe tbody tr th:only-of-type {\n",
       "        vertical-align: middle;\n",
       "    }\n",
       "\n",
       "    .dataframe tbody tr th {\n",
       "        vertical-align: top;\n",
       "    }\n",
       "\n",
       "    .dataframe thead th {\n",
       "        text-align: right;\n",
       "    }\n",
       "</style>\n",
       "<table border=\"1\" class=\"dataframe\">\n",
       "  <thead>\n",
       "    <tr style=\"text-align: right;\">\n",
       "      <th></th>\n",
       "      <th>Treinamento</th>\n",
       "      <th>Relevante</th>\n",
       "      <th>Irrelevante</th>\n",
       "    </tr>\n",
       "  </thead>\n",
       "  <tbody>\n",
       "    <tr>\n",
       "      <td>0</td>\n",
       "      <td>NaN</td>\n",
       "      <td>@puma_br @palmeiras meu time, nossa cria, noss...</td>\n",
       "      <td>@neymarjr @puma chamou na chuteira clássica</td>\n",
       "    </tr>\n",
       "    <tr>\n",
       "      <td>1</td>\n",
       "      <td>NaN</td>\n",
       "      <td>doido que as pelada na arena volta pra eu lanç...</td>\n",
       "      <td>porra ney, era pra inaugurar a chuteira da pum...</td>\n",
       "    </tr>\n",
       "    <tr>\n",
       "      <td>2</td>\n",
       "      <td>NaN</td>\n",
       "      <td>essa chuteira da puma😍😍😍 https://t.co/ra7ojthqxs</td>\n",
       "      <td>@neymarjr @puma chuteira preta! ja posso iludi...</td>\n",
       "    </tr>\n",
       "    <tr>\n",
       "      <td>3</td>\n",
       "      <td>NaN</td>\n",
       "      <td>@neymarjr @puma tem uma chuteira mais bonitinh...</td>\n",
       "      <td>bicho, o neymar recusou renovação de contrato ...</td>\n",
       "    </tr>\n",
       "    <tr>\n",
       "      <td>4</td>\n",
       "      <td>NaN</td>\n",
       "      <td>@gaboquesabe nunca vi uma chuteira top tier 1 ...</td>\n",
       "      <td>@neymarjr @puma chuteira preta pai agora a cop...</td>\n",
       "    </tr>\n",
       "  </tbody>\n",
       "</table>\n",
       "</div>"
      ],
      "text/plain": [
       "   Treinamento                                          Relevante  \\\n",
       "0          NaN  @puma_br @palmeiras meu time, nossa cria, noss...   \n",
       "1          NaN  doido que as pelada na arena volta pra eu lanç...   \n",
       "2          NaN   essa chuteira da puma😍😍😍 https://t.co/ra7ojthqxs   \n",
       "3          NaN  @neymarjr @puma tem uma chuteira mais bonitinh...   \n",
       "4          NaN  @gaboquesabe nunca vi uma chuteira top tier 1 ...   \n",
       "\n",
       "                                         Irrelevante  \n",
       "0        @neymarjr @puma chamou na chuteira clássica  \n",
       "1  porra ney, era pra inaugurar a chuteira da pum...  \n",
       "2  @neymarjr @puma chuteira preta! ja posso iludi...  \n",
       "3  bicho, o neymar recusou renovação de contrato ...  \n",
       "4  @neymarjr @puma chuteira preta pai agora a cop...  "
      ]
     },
     "execution_count": 3,
     "metadata": {},
     "output_type": "execute_result"
    }
   ],
   "source": [
    "# Faz a leitura do excel \n",
    "train = pd.read_excel(filename)\n",
    "train.head(5)\n",
    "\n",
    "train[\"Relevante\"]= train[\"Relevante\"].astype(str)\n",
    "train[\"Irrelevante\"]= train[\"Irrelevante\"].astype(str)\n",
    "\n",
    "train.head(5)"
   ]
  },
  {
   "cell_type": "code",
   "execution_count": 4,
   "metadata": {},
   "outputs": [
    {
     "data": {
      "text/html": [
       "<div>\n",
       "<style scoped>\n",
       "    .dataframe tbody tr th:only-of-type {\n",
       "        vertical-align: middle;\n",
       "    }\n",
       "\n",
       "    .dataframe tbody tr th {\n",
       "        vertical-align: top;\n",
       "    }\n",
       "\n",
       "    .dataframe thead th {\n",
       "        text-align: right;\n",
       "    }\n",
       "</style>\n",
       "<table border=\"1\" class=\"dataframe\">\n",
       "  <thead>\n",
       "    <tr style=\"text-align: right;\">\n",
       "      <th></th>\n",
       "      <th>Teste</th>\n",
       "      <th>Relevante</th>\n",
       "      <th>Irrelevante</th>\n",
       "    </tr>\n",
       "  </thead>\n",
       "  <tbody>\n",
       "    <tr>\n",
       "      <td>0</td>\n",
       "      <td>NaN</td>\n",
       "      <td>@gathlos de níver atrasado quero uma chuteira ...</td>\n",
       "      <td>\"o rei está de volta!\"\\n\\na puma confirmou hoj...</td>\n",
       "    </tr>\n",
       "    <tr>\n",
       "      <td>1</td>\n",
       "      <td>NaN</td>\n",
       "      <td>@neymarjrdepre @neymarjr @puma essa chuteira é...</td>\n",
       "      <td>@bergonsi_carlos chuteira preta da puma, é ami...</td>\n",
       "    </tr>\n",
       "    <tr>\n",
       "      <td>2</td>\n",
       "      <td>NaN</td>\n",
       "      <td>era só essa chuteira da puma na minha vida</td>\n",
       "      <td>@bernardoqac chuteira preta da puma e barões, ...</td>\n",
       "    </tr>\n",
       "    <tr>\n",
       "      <td>3</td>\n",
       "      <td>NaN</td>\n",
       "      <td>@manassescruz1 @juancrf19 @futebol_info @puma_...</td>\n",
       "      <td>@danilindo____ @neymarjrdepre @breninhoo___ @n...</td>\n",
       "    </tr>\n",
       "    <tr>\n",
       "      <td>4</td>\n",
       "      <td>NaN</td>\n",
       "      <td>só a chuteira da puma na minha vida mesmo.</td>\n",
       "      <td>@futtmais posta as fotos d ney com a nova chut...</td>\n",
       "    </tr>\n",
       "  </tbody>\n",
       "</table>\n",
       "</div>"
      ],
      "text/plain": [
       "   Teste                                          Relevante  \\\n",
       "0    NaN  @gathlos de níver atrasado quero uma chuteira ...   \n",
       "1    NaN  @neymarjrdepre @neymarjr @puma essa chuteira é...   \n",
       "2    NaN         era só essa chuteira da puma na minha vida   \n",
       "3    NaN  @manassescruz1 @juancrf19 @futebol_info @puma_...   \n",
       "4    NaN         só a chuteira da puma na minha vida mesmo.   \n",
       "\n",
       "                                         Irrelevante  \n",
       "0  \"o rei está de volta!\"\\n\\na puma confirmou hoj...  \n",
       "1  @bergonsi_carlos chuteira preta da puma, é ami...  \n",
       "2  @bernardoqac chuteira preta da puma e barões, ...  \n",
       "3  @danilindo____ @neymarjrdepre @breninhoo___ @n...  \n",
       "4  @futtmais posta as fotos d ney com a nova chut...  "
      ]
     },
     "execution_count": 4,
     "metadata": {},
     "output_type": "execute_result"
    }
   ],
   "source": [
    "test = pd.read_excel(filename, sheet_name = 'Teste')\n",
    "test.head(5)"
   ]
  },
  {
   "cell_type": "code",
   "execution_count": 5,
   "metadata": {},
   "outputs": [],
   "source": [
    "# dividimos em duas categorias relevante e irrelevante:\n",
    "\n",
    "Relevantes = ' '.join(train.Relevante)\n",
    "\n",
    "Irrelevantes = ' '.join(train.Irrelevante)"
   ]
  },
  {
   "cell_type": "code",
   "execution_count": 29,
   "metadata": {},
   "outputs": [],
   "source": [
    "# Função para limpar a string\n",
    "def cleanup(text):\n",
    "    \"\"\"\n",
    "        Função de limpeza muito simples que troca alguns sinais básicos por espaços\n",
    "    \"\"\"\n",
    "    #import string\n",
    "    text = re.sub(r'_', ' ', text, flags=re.MULTILINE)\n",
    "    text = re.sub(r'\\n', ' ', text, flags=re.MULTILINE)\n",
    "    text = re.sub(r'http\\S+', '', text, flags=re.MULTILINE)\n",
    "    punctuation = '[!-.:?;@,“”_]' # Note que os sinais [] são delimitadores de um conjunto.\n",
    "\n",
    "    pattern = re.compile(punctuation)\n",
    "    text_subbed = re.sub(pattern, '', text)\n",
    "    return text_subbed\n",
    "    "
   ]
  },
  {
   "cell_type": "code",
   "execution_count": 30,
   "metadata": {},
   "outputs": [
    {
     "data": {
      "text/plain": [
       "'puma br palmeiras meu time nossa cria nossa puma br poderia me presentear com uma chuteira pra fechar o squad rsrsrs boyah doido que as pelada na arena volta pra eu lançar uma chuteira da puma igual menino ney 😅 essa chuteira da puma😍😍😍  neymarjr puma tem uma chuteira mais bonitinha ñ ney gaboquesabe nunca vi uma chuteira top tier 1 da puma neymar assinando com a puma e lançando uma chuteira horrorosa essa chuteira preta básica da puma é clássica dmsss  guiwrid neymarjrdepre eu falo em chuteira mesmo já testei adidas puma mas a nike é a única que encaixa perfeitamente palmeiras puma br chuteira feia yurifirme neymarjr pumafootball puma acabando com meu sonho de ter uma chuteira puma agora vai custar 2 mil reais kkkkkk minha opinião chuteira da puma é muito fatela em termos de tudo nem com o dinheiro q o ney ganha da puma eu usaria essa chuteira feia vsf  seloco tô apaixonada nessa chuteira preta da puma do neymar 🤤🤤 chuteira preta kkkk ue ate eu vou usar puma agr 😂  liventy222 pkakarott nataxazicadaba1 lemoxx   leozinnoficial a chuteira a da puma é superior a todas eles tem o modelo de chuteiras mais leve do mundo isso é fato ele é o neymar né a gente bate o olho em um produto que ele está usando e a gente já fica louco querendo comprar eu mesmo já fiquei louco aqui com à chuteira e um tênis da puma só falta o dinheiro 💸💔😂  irmão vou até comprar essa chuteira da puma tá muito braba 🤩🤩🤩 neymarjrdepre neymarjr puma chuteira feia pra crl vou ter que vender minha chuteira e comprar uma puma 🤪🤪  neymarjr puma chuteira braba pai genioneymarjr10 neymarjr puma hmmjá sei q chuteira eu vou comprar krl mto foda essa chuteira da puma q o neymar tava usando a chuteira é bonita mas é muito estranho ver o neymar de puma  era pra ter deixado a nova chuteira do novo patrocínio na cara deles kskskskskdk puma tá o luxo  essas chuteira da puma chega não kk as roupas da puma são lindas mas chuteira e tênis não da mano kkkkkkkkkkkkkk não tem umzinho bonito e agora q eu quero a chuteira da puma do ney kk neymarjr puma posso tá burramente errado mas essa chuteira parece ser muito dura e pesada péssimo para um atacante de velocidade agora eu quero uma chuteira da puma e poucas ideia os produtos da puma estão sendo muito procurados após acerto com neymar  eu mesmo já procurei uma chuteira da puma para comprar kkkkkkkkkkkkk doentespfutebol chuteira clássico da puma absurdo de linda promoção oferta  chuteira campo puma future 53 netfit bdp fg/ag  amarelo e preto  r 22999  puma esporte  presentinho do primochuteira original da pumaluva paptor😉👊  nunca nem vi uma chuteira da puma 🤦🏻\\u200d♂️ njrdaily só eu q acho que a nike combina com a puma nike x puma = chuteira phantom future seria uma boa ideia felippeouro sai fora puma só tem chuteira feia o q vai ter de nego comprando chuteira da puma ta no gibi não 😂 a meta vai ser comprar a chuteira black da puma 😍 chuteira da puma é muito feia que coisa horrenda no pé de neymar bicho puma br neymarjr chuteira feia da porra parece um tênis moss sifude caralho o neymar realmente vai me fazer comprar a puma kings mano puta chuteira bonita fodasse minha próxima chuteira será puma chuteira preta da puma tá braba pprt neymarjrdepre neymarjr puma essa chuteira preta da puma é linda demais ultimamente eu estava um pouco decepcionado com a marca um mal gosto desgraçado muitas cores misturadas tava horrível agora essa do neymar ficou sensacional essa chuteira da puma ta coisa linda 🥰  eu comprei uma chuteira da puma neymarjr viu e já foi la pedir patrocínio enfim a inveja neymarjrdepre neymarjr puma gostei da chuteira simples tradicional assemelhase a que pelé e maradona usaram no passado é vou ter que comprar chuteira da puma agr e o medo de comprar uma chuteira da puma e não gostar kkkkkk já comecei a pesquisar chuteira da puma pra imitar o ney fodase terei q comprar uma chuteira da puma 🤦🏻\\u200d♀️ tô quase comprando uma chuteira da puma kkkkk estou me despedindo da nike porque agora só vou usar blusa short tênis chuteira caneleira a porra toda da puma  agr eu vo te que compra chuteira da puma nickolas renz tmlc mnr chuteira tá puma é muito braba neymarjr puma pra ate no neymar fica feia chuteira tem que ser uma bosta msm quero uma chuteira da puma igual do ney vtnc chuteira da puma e a melhor do mundo  ele treinando e pensando  crl era pra eu renovar com a nike essa chuteira da puma e horrível   a partir de hoje eu só uso chuteira da puma pumabrasil puma porfavo manda uma chuteira pra mim de presente que eu vou te patrosinar sempre no insta porfavor manda uma chuteira pra mim ser não poder me da pelomenos me responda a puma já é bem demais faz tempo só qualidade em qualquer roupa tênis ou chuteira a ida do neymar pra lá vai trazer a maior visibilidade que a puma queria  rcarlinhu futnjr10 neymarjrdepre acredito que tem toda a parada de adaptação com a chuteira nova querendo ou não a silhueta da puma é extremamente diferente da nike mas os chutes não sei oque rolou deve ta em chock chuteira da puma é bem demais tbm 🥵  ninguém me convence que essa chuteira nova do neymarjr  pela puma é mais bonita que a da nike acho os kit da puma enjoado demais mas de chuteira fica a carência  neymarjr puma camndias chuteira preta é o charme do futebol não tem como chuteira da puma é um lixo véi futraiz fc bem paia essa preta aí  mas é claro que a puma vai faze uma chuteira top 1 pra ele né até de ouro kkk neymarjr puma chuteira feia ney as chuteira da puma são bonita de mais doentespfutebol chuteira perfeita puma é top n achei essa chuteira da puma bnt nãopprt era só algm comprando aql chuteira  puma kingp mim tmlc chuteira da puma é muito feia parece q não saiu dos anos 90 agora a chuteira da puma vai está no pé de todos os jogadores que eu conheço leozinhoo cunha neymarjrdepre neymarjr puma falei pai sem chance é dele chuteira linda te falei neymarjrdepre neymarjr puma chuteira feia e sem ousadia essa chuteira king da puma ta coisa linda neymarjr puma chuteira réia feia mês que vem vou ter que lançar chuteira da puma já kkkkk queria uma chuteira da puma e nem é por causa do neymar é que eu sempre gostei da puma puma é bonitona essa chuteira da puma que o ney meteu no pé hoje ficou sensacional vei lindona de verdade voces acham que eu vou comprar um chuteira preta da puma só por causa do ney claro que vou status juntando dinheiro pra comprar a próxima chuteira do ney com a puma pedrodiedrichg puma no quesito chuteira deixa a desejar horrores por mais que eu não goste nem um pouquinho da puma ney fica estiloso dms usando chuteira preta luiervas vou começar a usar chuteira puma única chuteira bonita da puma pq as coloridas são feias p crl  agora geral vai comprar chuteira e roupa da puma por causa do neymar kkkkkkkkk já usava chuteira da puma agr ent fudeu  chuteira braba da puma  coisa mais linda essa chuteira preta da puma do neymar vokere ja vou ate lança uma chuteira da puma né bertassi5 😎  a puma sempre teve roupas e uns tênis/chuteira bem dahora cauep12 to ligado mas o que vai ter de gente comprando chuteira da puma por causa dele vai ser grande kkkk chuteira preta clássica da puma  antes do neymar 150 reais  pós neymar 1050 reais  vou ter que me transferir para topper todo respeito 3ª camisa do flu e chuteira puma do neymar mais feio q ambos não tem pqp csampaio pele uolesporte uol essa chuteira preta da puma juntamente com as chuteiras pretas da adidas com três listras são lendárias puma br neymarjr chuteira muito mais bonita do que a nike neymarjr mariwnja puma que chuteira feia meu deus do céu chuteira tá puma feiona agora vou ter que lançar uma chuteira da puma acho que vou pegar uma chuteira da puma 😬 sabadosnoites hasuaushahs puma é ruim de chuteira mesmo as chuteira da puma não é bonita não  nataxazicadaba1 lemoxx   leozinnoficial acho a chuteira da puma melhor mas concordo na parte dos tênis chuteira da puma dobrando o preço em 321  chuteira da puma era boa e barata agr o neymar tá sendo patrocinado esqueceeeee renandasilvaca2 puma br neymarjr fora que essa chuteira bem simples por sinal que está na mão do ney custa em média mil reais bem injusto eu diria neymar foi pra puma e virou o mc bin laden  sobre a chuteira simples mas é dessas que gosto toda preta cm a marca em branco teria facilmente  essa puma do ney preta com branco clássica é linda demais eu amo chuteira preta acho classe demais vou comprar uma chuteira da puma só por causa do ney a puma tem uma logo foda vei de um animal foda aí na chuteira tênis oq eles fazem coloca um risco ridículo pqp a puma ja tinha uns panos fera tenia e chuteira agora com o neymarjr vai ficar outro patmar ta maluco 🔥🔥 neymarjr puma chuteira feia da porra neymarjr puma essa chuteira ficou braba jfpeixot0 ah mané não é por nada não mas minha próxima chuteira é puma ff era só essa chuteira puma 🤤❤️  melhor coisa que ele fez pprt será que o pai influência  chuteira da puma é surreal de boa  essa chuteira nova do neymar da puma tá braba sempre gostei de chuteira toda preta será que essa é a única chuteira neurótica da puma  maldosasccp mas convenhamos q a chuteira da puma são mais bonitas que a da nike espero q façam uma linha dele neymarjr puma e vamos de chuteira preta 😍 meu irmão que chuteira é essa papai pqp pumagtgtgtgtnike  neymarjrdepre neymarjr puma kkkkkkkkkkk nada na puma presta que chuteira feia  no máximo o uniforme da puma e olhe lá neymarjr puma não lembro do adulto ney de chuteira preta  gostei 😍 neymarjr puma chuteira braba já já a puma lança uma foda pra ele aguardem apesar de chuteira preta ser foda  partiu comprar chuteira e roupas da puma serei visto comprando chuteira da puma obg neymarjr essa chuteira preta da puma é a coisa mais linda desse universo  puma br neymarjr que chuteira top queria uma mas não posso pagar 😭 a chuteira feia  queria uma chuteira preta da puma leo figueired0 doentespfutebol tem a puma ultra 11 mas pow essa aí é clássica né mlk essa é a chuteira que o rei usou a puma nao sabe fazer chuteira pprt kkkkkkkk  neymarjr puma a chuteira 😍 essa chuteira da puma é linda  mds essa chuteira preta da pumagtgtgt  agora todo mundo gosta da chuteira da puma kkkkkkk já to até vendo agr os nego só com chuteira da puma😂 geoaral sla mano eu curto chuteira p/b mas tipo eu n gosto dos design da puma ta ligado to a um tempão querendo comprar chuteira da puma vi uma preta no shopping fiquei apaixonado pqp chuteira nova da puma 👌🏽  mês que vem vou pegar minha chuteira da puma 🤤❤️ tô em dúvida entre comprar uma chuteira da nike ou da puma pqp nan nan nan nan nan nan'"
      ]
     },
     "execution_count": 30,
     "metadata": {},
     "output_type": "execute_result"
    }
   ],
   "source": [
    "# Retira as pontuações e os links\n",
    "cleanup(Relevantes)\n",
    "\n",
    "#cleanup(Irrelevantes)"
   ]
  },
  {
   "cell_type": "code",
   "execution_count": 16,
   "metadata": {},
   "outputs": [],
   "source": [
    "R = pd.Series(Relevantes.split())"
   ]
  },
  {
   "cell_type": "code",
   "execution_count": 23,
   "metadata": {},
   "outputs": [
    {
     "data": {
      "text/plain": [
       "chuteira                   140\n",
       "puma                       105\n",
       "da                          99\n",
       "a                           57\n",
       "que                         42\n",
       "                          ... \n",
       "porfavor                     1\n",
       "simples                      1\n",
       "amarelo                      1\n",
       "silhueta                     1\n",
       "https://t.co/wynmzpgc7m      1\n",
       "Length: 695, dtype: int64"
      ]
     },
     "execution_count": 23,
     "metadata": {},
     "output_type": "execute_result"
    }
   ],
   "source": [
    "R.value_counts(ascending=False)"
   ]
  },
  {
   "cell_type": "code",
   "execution_count": 28,
   "metadata": {},
   "outputs": [
    {
     "data": {
      "text/plain": [
       "16"
      ]
     },
     "execution_count": 28,
     "metadata": {},
     "output_type": "execute_result"
    }
   ],
   "source": [
    "Relevantes.count()"
   ]
  },
  {
   "cell_type": "markdown",
   "metadata": {},
   "source": [
    "___\n",
    "## Classificador automático de sentimento\n"
   ]
  },
  {
   "cell_type": "markdown",
   "metadata": {},
   "source": [
    "Faça aqui uma descrição do seu produto e o que considerou como relevante ou não relevante na classificação dos tweets.\n",
    "\n",
    "ESCREVA AQUI..."
   ]
  },
  {
   "cell_type": "markdown",
   "metadata": {},
   "source": [
    "___\n",
    "### Montando um Classificador Naive-Bayes\n",
    "\n",
    "Considerando apenas as mensagens da planilha Treinamento, ensine  seu classificador."
   ]
  },
  {
   "cell_type": "code",
   "execution_count": null,
   "metadata": {},
   "outputs": [],
   "source": []
  },
  {
   "cell_type": "code",
   "execution_count": null,
   "metadata": {},
   "outputs": [],
   "source": []
  },
  {
   "cell_type": "code",
   "execution_count": null,
   "metadata": {},
   "outputs": [],
   "source": []
  },
  {
   "cell_type": "markdown",
   "metadata": {},
   "source": [
    "___\n",
    "### Verificando a performance do Classificador\n",
    "\n",
    "Agora você deve testar o seu classificador com a base de Testes."
   ]
  },
  {
   "cell_type": "code",
   "execution_count": null,
   "metadata": {},
   "outputs": [],
   "source": []
  },
  {
   "cell_type": "code",
   "execution_count": null,
   "metadata": {},
   "outputs": [],
   "source": []
  },
  {
   "cell_type": "code",
   "execution_count": null,
   "metadata": {},
   "outputs": [],
   "source": []
  },
  {
   "cell_type": "markdown",
   "metadata": {},
   "source": [
    "___\n",
    "### Concluindo"
   ]
  },
  {
   "cell_type": "code",
   "execution_count": null,
   "metadata": {},
   "outputs": [],
   "source": []
  },
  {
   "cell_type": "code",
   "execution_count": null,
   "metadata": {},
   "outputs": [],
   "source": []
  },
  {
   "cell_type": "markdown",
   "metadata": {},
   "source": [
    "___\n",
    "## Aperfeiçoamento:\n",
    "\n",
    "Os trabalhos vão evoluir em conceito dependendo da quantidade de itens avançados:\n",
    "\n",
    "* Limpar: \\n, :, \", ', (, ), etc SEM remover emojis\n",
    "* Corrigir separação de espaços entre palavras e emojis ou entre emojis e emojis\n",
    "* Propor outras limpezas e transformações que não afetem a qualidade da informação ou classificação\n",
    "* Criar categorias intermediárias de relevância baseadas na probabilidade: ex.: muito relevante, relevante, neutro, irrelevante, muito irrelevante (3 categorias: C, mais categorias conta para B)\n",
    "* Explicar por que não posso usar o próprio classificador para gerar mais amostras de treinamento\n",
    "* Propor diferentes cenários para Naïve Bayes fora do contexto do projeto\n",
    "* Sugerir e explicar melhorias reais com indicações concretas de como implementar (indicar como fazer e indicar material de pesquisa)\n",
    "* Montar um dashboard que realiza análise de sentimento e visualiza estes dados"
   ]
  },
  {
   "cell_type": "markdown",
   "metadata": {},
   "source": [
    "___\n",
    "## Referências"
   ]
  },
  {
   "cell_type": "markdown",
   "metadata": {},
   "source": [
    "[Naive Bayes and Text Classification](https://arxiv.org/pdf/1410.5329.pdf)  **Mais completo**\n",
    "\n",
    "[A practical explanation of a Naive Bayes Classifier](https://monkeylearn.com/blog/practical-explanation-naive-bayes-classifier/) **Mais simples**"
   ]
  },
  {
   "cell_type": "code",
   "execution_count": null,
   "metadata": {},
   "outputs": [],
   "source": []
  }
 ],
 "metadata": {
  "kernelspec": {
   "display_name": "Python 3",
   "language": "python",
   "name": "python3"
  },
  "language_info": {
   "codemirror_mode": {
    "name": "ipython",
    "version": 3
   },
   "file_extension": ".py",
   "mimetype": "text/x-python",
   "name": "python",
   "nbconvert_exporter": "python",
   "pygments_lexer": "ipython3",
   "version": "3.7.4"
  }
 },
 "nbformat": 4,
 "nbformat_minor": 4
}
