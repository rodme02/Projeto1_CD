{
 "cells": [
  {
   "cell_type": "markdown",
   "metadata": {},
   "source": [
    "# Projeto 1 - Ciência dos Dados"
   ]
  },
  {
   "cell_type": "markdown",
   "metadata": {},
   "source": [
    "Nome: Vitor Fortes Giuliano Riccetti \n",
    "\n",
    "Nome: Rodrigo Paoliello de Medeiros"
   ]
  },
  {
   "cell_type": "markdown",
   "metadata": {},
   "source": [
    "**Atenção:** Serão permitidos grupos de três pessoas, mas com uma rubrica mais exigente. Grupos deste tamanho precisarão fazer um questionário de avaliação de trabalho em equipe"
   ]
  },
  {
   "cell_type": "markdown",
   "metadata": {},
   "source": [
    "___\n",
    "Carregando algumas bibliotecas:"
   ]
  },
  {
   "cell_type": "code",
   "execution_count": 20,
   "metadata": {},
   "outputs": [],
   "source": [
    "%matplotlib inline\n",
    "import pandas as pd\n",
    "import matplotlib.pyplot as plt\n",
    "import numpy as np\n",
    "import os\n",
    "import re"
   ]
  },
  {
   "cell_type": "markdown",
   "metadata": {},
   "source": [
    "**Em `filename`, coloque o nome do seu arquivo de dados!**"
   ]
  },
  {
   "cell_type": "code",
   "execution_count": 21,
   "metadata": {
    "scrolled": false
   },
   "outputs": [
    {
     "name": "stdout",
     "output_type": "stream",
     "text": [
      "Encontrei o arquivo Chuteira_Puma.xlsx, tudo certo para prosseguir com a prova!\n"
     ]
    }
   ],
   "source": [
    "import os\n",
    "\n",
    "filename = 'Chuteira_Puma.xlsx'\n",
    "if filename in os.listdir():\n",
    "    print(f'Encontrei o arquivo {filename}, tudo certo para prosseguir com a prova!')\n",
    "else:\n",
    "    print(f'Não encontrei o arquivo {filename} aqui no diretório {os.getcwd()}, será que você não baixou o arquivo?')"
   ]
  },
  {
   "cell_type": "markdown",
   "metadata": {},
   "source": [
    "Carregando a base de dados com os tweets classificados como relevantes e não relevantes:"
   ]
  },
  {
   "cell_type": "code",
   "execution_count": 22,
   "metadata": {},
   "outputs": [],
   "source": [
    "# Faz a leitura do excel \n",
    "train = pd.read_excel(filename)\n",
    "train.head(5)\n",
    "\n",
    "train[\"Relevante\"]= train[\"Relevante\"].astype(str)\n",
    "train[\"Irrelevante\"]= train[\"Irrelevante\"].astype(str)\n",
    "\n"
   ]
  },
  {
   "cell_type": "code",
   "execution_count": 23,
   "metadata": {},
   "outputs": [
    {
     "data": {
      "text/html": [
       "<div>\n",
       "<style scoped>\n",
       "    .dataframe tbody tr th:only-of-type {\n",
       "        vertical-align: middle;\n",
       "    }\n",
       "\n",
       "    .dataframe tbody tr th {\n",
       "        vertical-align: top;\n",
       "    }\n",
       "\n",
       "    .dataframe thead th {\n",
       "        text-align: right;\n",
       "    }\n",
       "</style>\n",
       "<table border=\"1\" class=\"dataframe\">\n",
       "  <thead>\n",
       "    <tr style=\"text-align: right;\">\n",
       "      <th></th>\n",
       "      <th>Treinamento</th>\n",
       "      <th>Relevante</th>\n",
       "      <th>Irrelevante</th>\n",
       "    </tr>\n",
       "  </thead>\n",
       "  <tbody>\n",
       "    <tr>\n",
       "      <td>0</td>\n",
       "      <td>NaN</td>\n",
       "      <td>@puma_br @palmeiras meu time, nossa cria, noss...</td>\n",
       "      <td>@neymarjr @puma chamou na chuteira clássica</td>\n",
       "    </tr>\n",
       "    <tr>\n",
       "      <td>1</td>\n",
       "      <td>NaN</td>\n",
       "      <td>doido que as pelada na arena volta pra eu lanç...</td>\n",
       "      <td>porra ney, era pra inaugurar a chuteira da pum...</td>\n",
       "    </tr>\n",
       "    <tr>\n",
       "      <td>2</td>\n",
       "      <td>NaN</td>\n",
       "      <td>essa chuteira da puma😍😍😍 https://t.co/ra7ojthqxs</td>\n",
       "      <td>@neymarjr @puma chuteira preta! ja posso iludi...</td>\n",
       "    </tr>\n",
       "    <tr>\n",
       "      <td>3</td>\n",
       "      <td>NaN</td>\n",
       "      <td>@neymarjr @puma tem uma chuteira mais bonitinh...</td>\n",
       "      <td>bicho, o neymar recusou renovação de contrato ...</td>\n",
       "    </tr>\n",
       "    <tr>\n",
       "      <td>4</td>\n",
       "      <td>NaN</td>\n",
       "      <td>@gaboquesabe nunca vi uma chuteira top tier 1 ...</td>\n",
       "      <td>@neymarjr @puma chuteira preta pai agora a cop...</td>\n",
       "    </tr>\n",
       "  </tbody>\n",
       "</table>\n",
       "</div>"
      ],
      "text/plain": [
       "   Treinamento                                          Relevante  \\\n",
       "0          NaN  @puma_br @palmeiras meu time, nossa cria, noss...   \n",
       "1          NaN  doido que as pelada na arena volta pra eu lanç...   \n",
       "2          NaN   essa chuteira da puma😍😍😍 https://t.co/ra7ojthqxs   \n",
       "3          NaN  @neymarjr @puma tem uma chuteira mais bonitinh...   \n",
       "4          NaN  @gaboquesabe nunca vi uma chuteira top tier 1 ...   \n",
       "\n",
       "                                         Irrelevante  \n",
       "0        @neymarjr @puma chamou na chuteira clássica  \n",
       "1  porra ney, era pra inaugurar a chuteira da pum...  \n",
       "2  @neymarjr @puma chuteira preta! ja posso iludi...  \n",
       "3  bicho, o neymar recusou renovação de contrato ...  \n",
       "4  @neymarjr @puma chuteira preta pai agora a cop...  "
      ]
     },
     "execution_count": 23,
     "metadata": {},
     "output_type": "execute_result"
    }
   ],
   "source": [
    "test = pd.read_excel(filename, sheet_name = 'Treinamento')\n",
    "test.head(5)"
   ]
  },
  {
   "cell_type": "code",
   "execution_count": 24,
   "metadata": {},
   "outputs": [],
   "source": [
    "# dividimos em duas categorias relevante e irrelevante:\n",
    "\n",
    "Relevantes = ''.join(train.Relevante)\n",
    "\n",
    "Irrelevantes = ' '.join(train.Irrelevante)\n"
   ]
  },
  {
   "cell_type": "code",
   "execution_count": 25,
   "metadata": {},
   "outputs": [],
   "source": [
    "# Função para limpar a string\n",
    "def cleanup(text):\n",
    "    \"\"\"\n",
    "        Função de limpeza muito simples que troca alguns sinais básicos por espaços\n",
    "    \"\"\"\n",
    "    #import string\n",
    "    text = re.sub(r'@\\S+', ' ', text, flags=re.MULTILINE)\n",
    "    text = re.sub(r'_', ' ', text, flags=re.MULTILINE)\n",
    "    text = re.sub(r'\\n', ' ', text, flags=re.MULTILINE)\n",
    "    text = re.sub(r'kk\\S+', ' ', text, flags=re.MULTILINE)\n",
    "    text = re.sub(r'http\\S+', ' ', text, flags=re.MULTILINE)\n",
    "    text = re.sub(r'https\\S+', ' ', text, flags=re.MULTILINE)\n",
    "    punctuation = '[!-.:?;_“”]' # Note que os sinais [] são delimitadores de um conjunto.\n",
    "\n",
    "    pattern = re.compile(punctuation)\n",
    "    text_subbed = re.sub(pattern, ' ', text)\n",
    "    return text_subbed\n",
    "\n",
    "emoji_pat = '[\\U0001F300-\\U0001F64F\\U0001F680-\\U0001F6FF\\u2600-\\u26FF\\u2700-\\u27BF]'\n",
    "shrink_whitespace_reg = re.compile(r'\\s{2,}')\n",
    "\n",
    "def clean_text(text_subbed):\n",
    "    reg = re.compile(r'({})'.format(emoji_pat)) # line a\n",
    "    result = reg.sub(lambda x: ' {} '.format(x.group(1)) if x.group(1) else ' ', text_subbed)\n",
    "    return shrink_whitespace_reg.sub(' ', result)\n",
    "\n",
    "\n"
   ]
  },
  {
   "cell_type": "code",
   "execution_count": 26,
   "metadata": {},
   "outputs": [
    {
     "data": {
      "text/plain": [
       "' meu time nossa cria nossa poderia me presentear com uma chuteira pra fechar o squad rsrsrs boyah doido que as pelada na arena volta pra eu lançar uma chuteira da puma igual menino ney 😅 essa chuteira da puma 😍 😍 😍 tem uma chuteira mais bonitinha ñ ney nunca vi uma chuteira top tier 1 da puma neymar assinando com a puma e lançando uma chuteira horrorosa essa chuteira preta básica da puma é clássica dmsss eu falo em chuteira mesmo já testei adidas puma mas a nike é a única que encaixa perfeitamente chuteira feia acabando com meu sonho de ter uma chuteira puma agora vai custar 2 mil reais opinião chuteira da puma é muito fatela em termos de tudonem com o dinheiro q o ney ganha da puma eu usaria essa chuteira feia vsf tô apaixonada nessa chuteira preta da puma do neymar 🤤🤤chuteira preta ue ate eu vou usar puma agr 😂 a chuteira a da puma é superior a todas eles tem o modelo de chuteiras mais leve do mundoisso é fato ele é o neymar né a gente bate o olho em um produto que ele está usando e a gente já fica louco querendo comprar eu mesmo já fiquei louco aqui com à chuteira e um tênis da puma só falta o dinheiro 💸 💔 😂 vou até comprar essa chuteira da puma tá muito braba 🤩🤩🤩 chuteira feia pra crlvou ter que vender minha chuteira e comprar uma puma 🤪🤪 chuteira braba pai hmm já sei q chuteira eu vou comprarkrl mto foda essa chuteira da puma q o neymar tava usandoa chuteira é bonita mas é muito estranho ver o neymar de puma pra ter deixado a nova chuteira do novo patrocínio na cara deles kskskskskdk puma tá o luxo chuteira da puma chega não roupas da puma são lindas mas chuteira e tênis não da mano não tem umzinho bonitoe agora q eu quero a chuteira da puma do ney kk posso tá burramente errado mas essa chuteira parece ser muito dura e pesada péssimo para um atacante de velocidade agora eu quero uma chuteira da puma e poucas ideiaos produtos da puma estão sendo muito procurados após acerto com neymar eu mesmo já procurei uma chuteira da puma para comprar chuteira clássico da puma absurdo de linda promoção oferta chuteira campo puma future 5 3 netfit bdp fg/ag amarelo e preto r 229 99 puma esporte do primo chuteira original da puma luva paptor 😉 👊 nem vi uma chuteira da puma 🤦 🏻 \\u200d ♂ ️ só eu q acho que a nike combina com a puma nike x puma = chuteira phantom future seria uma boa ideia sai fora puma só tem chuteira feiao q vai ter de nego comprando chuteira da puma ta no gibi não 😂 a meta vai ser comprar a chuteira black da puma 😍 chuteira da puma é muito feia que coisa horrenda no pé de neymar bicho chuteira feia da porra parece um tênis moss sifudecaralho o neymar realmente vai me fazer comprar a puma kings mano puta chuteira bonitafodasse minha próxima chuteira será pumachuteira preta da puma tá braba pprt essa chuteira preta da puma é linda demais ultimamente eu estava um pouco decepcionado com a marca um mal gosto desgraçado muitas cores misturadas tava horrível agora essa do neymar ficou sensacional essa chuteira da puma ta coisa linda 🥰 comprei uma chuteira da puma viu e já foi la pedir patrocínio enfim a inveja gostei da chuteira simples tradicional assemelha se a que pelé e maradona usaram no passado é vou ter que comprar chuteira da puma agre o medo de comprar uma chuteira da puma e não gostar comecei a pesquisar chuteira da puma pra imitar o ney fodaseterei q comprar uma chuteira da puma 🤦 🏻 \\u200d ♀ ️tô quase comprando uma chuteira da puma me despedindo da nike porque agora só vou usar blusa short tênis chuteira caneleira a porra toda da puma eu vo te que compra chuteira da puma tmlc mnr chuteira tá puma é muito braba pra ate no neymar fica feia chuteira tem que ser uma bosta msmquero uma chuteira da puma igual do neyvtnc chuteira da puma e a melhor do mundo treinando e pensando crl era pra eu renovar com a nike essa chuteira da puma e horrível partir de hoje eu só uso chuteira da puma puma porfavo manda uma chuteira pra mim de presente que eu vou te patrosinar sempre no insta porfavor manda uma chuteira pra mim ser não poder me da pelomenos me respondaa puma já é bem demais faz tempo só qualidade em qualquer roupa tênis ou chuteira a ida do neymar pra lá vai trazer a maior visibilidade que a puma queria acredito que tem toda a parada de adaptação com a chuteira nova querendo ou não a silhueta da puma é extremamente diferente da nike mas os chutes não sei oque rolou deve ta em chockchuteira da puma é bem demais tbm 🥵 me convence que essa chuteira nova do pela puma é mais bonita que a da nikeacho os kit da puma enjoado demais mas de chuteira fica a carência chuteira preta é o charme do futebol não tem comochuteira da puma é um lixo véi bem paia essa preta aí mas é claro que a puma vai faze uma chuteira top 1 pra ele né até de ouro chuteira feia neyas chuteira da puma são bonita de mais chuteira perfeita puma é top n achei essa chuteira da puma bnt não pprtera só algm comprando aql chuteira puma king p mim tmlcchuteira da puma é muito feia parece q não saiu dos anos 90agora a chuteira da puma vai está no pé de todos os jogadores que eu conheço falei pai sem chance é dele chuteira linda te falei chuteira feia e sem ousadia essa chuteira king da puma ta coisa linda chuteira réia feiamês que vem vou ter que lançar chuteira da puma já uma chuteira da puma e nem é por causa do neymar é que eu sempre gostei da puma puma é bonitonaessa chuteira da puma que o ney meteu no pé hoje ficou sensacional vei lindona de verdadevoces acham que eu vou comprar um chuteira preta da puma só por causa do ney claro que voustatus juntando dinheiro pra comprar a próxima chuteira do ney com a puma puma no quesito chuteira deixa a desejar horrorespor mais que eu não goste nem um pouquinho da puma ney fica estiloso dms usando chuteira preta vou começar a usar chuteira pumaúnica chuteira bonita da puma pq as coloridas são feias p crl geral vai comprar chuteira e roupa da puma por causa do neymar usava chuteira da puma agr ent fudeu braba da puma mais linda essa chuteira preta da puma do neymar vokereja vou ate lança uma chuteira da puma né 😎 puma sempre teve roupas e uns tênis/chuteira bem dahora to ligado mas o que vai ter de gente comprando chuteira da puma por causa dele vai ser grande preta clássica da puma antes do neymar 150 reais pós neymar 1050 reais vou ter que me transferir para toppertodo respeito 3ª camisa do flu e chuteira puma do neymar mais feio q ambos não tem pqp essa chuteira preta da puma juntamente com as chuteiras pretas da adidas com três listras são lendárias chuteira muito mais bonita do que a nike que chuteira feia meu deus do céuchuteira tá puma feionaagora vou ter que lançar uma chuteira da pumaacho que vou pegar uma chuteira da puma 😬 hasuaushahs puma é ruim de chuteira mesmoas chuteira da puma não é bonita não acho a chuteira da puma melhor mas concordo na parte dos tênischuteira da puma dobrando o preço em 3 2 1 da puma era boa e barata agr o neymar tá sendo patrocinado esqueceeeee fora que essa chuteira bem simples por sinal que está na mão do ney custa em média mil reais bem injusto eu dirianeymar foi pra puma e virou o mc bin laden sobre a chuteira simples mas é dessas que gosto toda preta cm a marca em branco teria facilmente puma do ney preta com branco clássica é linda demais eu amo chuteira preta acho classe demais vou comprar uma chuteira da puma só por causa do neya puma tem uma logo foda vei de um animal foda aí na chuteira tênis oq eles fazem coloca um risco ridículo pqpa puma ja tinha uns panos fera tenia e chuteira agora com o vai ficar outro patmar ta maluco 🔥 🔥 chuteira feia da porra essa chuteira ficou braba ah mané não é por nada não mas minha próxima chuteira é puma ffera só essa chuteira puma 🤤 ❤ ️ coisa que ele fez pprt será que o pai influência chuteira da puma é surreal de boa chuteira nova do neymar da puma tá braba sempre gostei de chuteira toda pretaserá que essa é a única chuteira neurótica da puma mas convenhamos q a chuteira da puma são mais bonitas que a da nike espero q façam uma linha dele e vamos de chuteira preta 😍 meu irmão que chuteira é essa papai pqp puma gt gt gt gt nike nada na puma presta que chuteira feia no máximo o uniforme da puma e olhe lá não lembro do adulto ney de chuteira preta gostei 😍 chuteira braba já já a puma lança uma foda pra ele aguardem apesar de chuteira preta ser foda comprar chuteira e roupas da pumaserei visto comprando chuteira da puma obg chuteira preta da puma é a coisa mais linda desse universo que chuteira top queria uma mas não posso pagar 😭 a chuteira feia uma chuteira preta da puma tem a puma ultra 1 1 mas pow essa aí é clássica né mlk essa é a chuteira que o rei usou a puma nao sabe fazer chuteira pprt a chuteira 😍 essa chuteira da puma é linda essa chuteira preta da puma gt gt gt todo mundo gosta da chuteira da puma to até vendo agr os nego só com chuteira da puma 😂 sla mano eu curto chuteira p/b mas tipo eu n gosto dos design da puma ta ligadoto a um tempão querendo comprar chuteira da puma vi uma preta no shopping fiquei apaixonado pqpchuteira nova da puma 👌 🏽 que vem vou pegar minha chuteira da puma 🤤 ❤ ️tô em dúvida entre comprar uma chuteira da nike ou da puma pqpnannannannannannan'"
      ]
     },
     "execution_count": 26,
     "metadata": {},
     "output_type": "execute_result"
    }
   ],
   "source": [
    "# Retira as pontuações e os links\n",
    "\n",
    "Lista_R_clean = cleanup(Relevantes.lower())\n",
    "Lista_R_clean = clean_text(Lista_R_clean)\n",
    "\n",
    "Lista_R_clean"
   ]
  },
  {
   "cell_type": "code",
   "execution_count": 27,
   "metadata": {},
   "outputs": [
    {
     "data": {
      "text/plain": [
       "' chamou na chuteira clássica porra ney era pra inaugurar a chuteira da puma na cara dele 🔥 chuteira preta ja posso iludir ou tá cedo bicho o neymar recusou renovação de contrato com a nike porque a nike fez uma chuteira do mbape e não fez pra ele e por isso ele assinou com a puma ahkdhdjshdjsbs chuteira preta pai agora a copa vem dobrou a meia pra n aparecer a nike perto da chuteira a chuteira preta senti o impacto neymar de chuteira da puma é estranho mas amei na hora q sair uma chuteira da puma que seje do ney da cor de um canetão aí sim vai ser a cara dele neymar devia te enfiado a chuteira da puma na bunda desse mlk neymar com essa chuteira preta da puma = hexa chuteira preta já avisto o hexa em 2022 esperando o lançar uma chuteira doida da neymar de chuteira da puma da até arrepios pai tá on e de chuteira preta da puma chuteira preta = hexa já botei o neymar com a chuteira da puma aq no fifa caralho neymar calçou uma chuteira puma e tudo mudou chuteira preta to iludido já neymar puma chuteira preta = hexa = eu bêbado com os amigos em 2022 a chuteira preta raiz voltou 🤩 king é o nome da chuteira seus burros acho muito estanho o neymar usando puma e ainda de chuteira preta haahahhaahhaaha ficou até mais bonito com essa chuteira da puma neymar em campp com chuteira da puma eh mto estranho tinha que enfiar a chuteira da puma no peito dele chuteira preta fede hexa heim 👌 🏽 ta vai ficar sem chuteira da puma de volta aos treinos detalhe pra chuteira já da puma kingisback 🔥 vou pedir minha chuteira da puma pra dar dinheiro pro ney vai q ele ta precisando neymar usando a chuteira da puma do pelé se não for melhor do mundo depois dessa não vai ser nunca mais tu nasceu em 2006 cara sua geração que é de hoje é chuteira rosa com lacinho o erro do foi não ter estreado os cravos da sua nova chuteira da puma devia ter deixado os cravos manchados com o sangue do nariz do racista fdp neymar ficou pika com a chuteira da puma hein chuteira braba da puma q o neymar vai usar em pqp chuteira da puma e meia da nike🤦 🏻 \\u200d ♂ ️ meia da nike e chuteira da puma 🤔 n é que essa chuteira da puma combinou com o ney chuteira toda preta vc tá imitando o fred em fdp artilharia e título vem neymar tá com a chuteira da puma não sei vocês mas eu não gostei do ney com a chuteira da puma caralho o neymar sofreu racismo em campo devia ter feito a estréia da chuteira puma pisando cm as cravas dela na cara do fdp acho que vou ganhar outra chuteira da puma antes o nenê tinha me dado uma agora o negoney vai mandar outra 🤧🤧🤧 🙌 🏾 🙌 🏾 🙏 🏾 🙏 🏾 🙏 🏾 🙏 🏾 belíssimo neymar jr de chuteira preta da puma chuteira feia do caraí neymar o importante é o futebol dele não vou assistir ele jogar pra ver a chuteira só queria ver o neymar quebrando a cara do racista com a chuteira nova da puma acabei de ler que o patrocínio do pelé era durante a copa de 70 cujo time do brasil era todo patrocinado pela adidas pelé achava a chuteira da adidas mais confortável e pediu pro roupeiro do time que fizesse uma maquiagem retirando as 3 listras da adidas e colocando uma da puma ney com a chuteira da puma estranho realmente neymarzete ja comprou sua chuteira puma neymar com chuteira da puma eh a crtz q a gente tem do hexa neymar de chuteira preta puma agr vai o uniforme do paris é da nike mas ele marcou a puma por causa da chuteira que agora eles patrocinam ele neymar goat sim 0 bolas de ouro 0 chuteira de ouro 0 vice da bola de ouro não amarra a chuteira de cr7 ou messi gustavo irmão patrocina a nova chuteira do neymar pô vc é bom dono da puma mano ney feliz ✅ voltou a treinar ✅ chuteira preta da puma ✅ herbert iludido ✅ alô 💬 king tá on 🔛 chuteira nova 🤩 👑 kingisback ⠀ hi 💬 king is on 🔛 legendary football boot 🤩 👑 kingisback ⠀ neymar neymarjr puma psg parissaintgermain psg ligue1 neymarfans neymarskills é um prazer quase sexual ver neymar cm essa chuteira preta da puma chuteira da puma e meia da nike 🤡🤡🤡🤡 essa chuteira da puma tá dando azar pro psg você ficou mt bem com essa chuteira preta esquece neymar hoje no seu primeiro treino usando a chuteira da puma a chuteira do neymar da puma esgotou na maioria da slojas agora o neymar vai chuteira preta e da entreguem as taças chuteira colorida nem pfv e chuteira raiz pai maduro ney voando melhor do mundo chuteira preta raiz o hexa é realidade neymar com essa chuteira clássica preta da puma ficou muito raiz 🔥 era pra ter testado a trava da chuteira nova da puma na cara dele comprei uma chuteira da puma semana passada e agora o neymar assinou com a puma somos parças mesmo 😂 😂 essa chuteira da puma q o neymar vai usar tá mt lindaa eu conversando com meu namorado sobre neymar x puma e descobri hoje que ele tem uma chuteira do neymar da nike daqui a pouco deve sair uma chuteira dele tipo a tiempo do r10 puma eu curtia pra futsal só n ia reclamar se o me desse uma chuteira da puma 😴 me dá uma chuteira e digo se esperava ou não 😛 🤪 😂 😂 😜 passa o whats dele aí mano quero pedir uma chuteira da puma só tô iludido não mas imagina o ney fazendo o gol na final da copa com aquela chuteira da puma 😳 ja era pra ter estreado a chuteira da puma na cara do filho da puta ney de chuteira preta é minha religiao e fodase o cara tá todo de nike só a chuteira da puma única chuteira bonita da puma padrão essa neymar tinha q ter lustrado a chuteira da puma na cara desse racista fdp idai q eu qr comprar chuteira da puma só pq o ney usa neymar vai usar uma chuteira preta na estreia com a puma 2020 tá tudo errado tá tudo errado pq o neymar não estreou a chuteira da puma dando uma voadora nos peitos do racista 😔 😔 neymar devia ter estreado a nova chuteira da puma dando um chute na cara desse fdp vou comprar uma chuteira da puma ne já que o home agora é de lá chuteira preta o hexa já é realidade chuteira preta sem viadagem gostamos primeira chuteira do maluco né parceiro calma q ainda vai ter uma linha só pra ele quando eu comprar um produto da puma quero ninguém falando que é por causa do neymar pq tenho uma chuteira e um tênis da marca a uns 2 anos e caralhada e uso até hj chuteira massa do meu ovo hom neymar de chuteira preta da puma fede a hexa ae puma me dá um chuteira aí pô nunca te pedi nada 🙃 adultoney usando chuteira puma clássica comprando roupas da puma com o dinheiro da chuteira q meu irmão não quis 😛 me manda uma chuteira da puma e eu digo se esperava ou não neymar de chuteira puma com meia nike dobrada p n mostra o swoosh neymar usará chuteira king de pelé e maradona após fechar com a puma neymar de chuteira preta da puma fede a hexa flavinho vai vender a chuteira da nike pra pegar a da puma já to vendo ksksksk neymar já estreiou a chuteira da puma como bicudando racista ney me doa os tênis/chuteira da nike q tu tem oi meu nome é diego nunca usei uma chuteira da puma muito menos qualquer roupa tênis ou acessório que eles produzem mas vou falar mal dela só pq todo mundo tá falando 🤷 🏼 \\u200d ♂ ️ seria massa se ele jogasse com uma chuteira branca e outra preta pra combinar com o cabelo meia da nike e chuteira da puma irmão o neymar de chuteira preta clássica da puma tem a cara do hexa chuteira preta é de zagueiro meu rei patifou afu só isso que te digo niguem nunca falo da puma foi só o neymar usar a chuteira q geral baba ovo neymar e sua chuteira da puma diego maradona eusébio johan cruijff francescoli lothar matthäus e pelé usaram a puma antigamente e hoje são lendas do futebol mundial neymar usará a chuteira que os reis maradona e pelé usaram ve se ta com moral o adulto ney mt estranho será que a vai lançar uma chuteira personalizada pro homem 🤑 agora tem que ir pro city pra tirar foto com uniforme completo junto com a chuteira todo de puma neymar com a clássica chuteira preta da puma é um trem muito foda pq a nike não fez a chuteira dele esse ano mas fez a de mbappe e a de cristiano deixando claro que ele não participaria da elite da marca e a puma tem ele agora como único destaque neymar expulso nada bem pra puma agr espero q a chuteira king n seja zikada ja to ate vendo a nova chuteira da puma como vai vim neymar tinha era que ter tirando a chuteira e batido no racista com ela fazia propaganda da puma e estragava a cara do filho da puta ao mesmo tempo e tá usando chuteira preta da puma iai molequinho travesso ney blz pura como vc esta fazendo bom trabalho jogando muito mano gostaria tanto de ganhar uma chuteira e uma camisa de presente nossa ia ser um grande presente por favor ney si vc vê essa ver essa mensagem porque favor que deus abençoe vcs sua família eu não comprei uma chuteira da não né chuteira preta da agora o hexa vem de verdade o melhor do mundo é isso ney como vai fazer gol com chuteira da puma puma king será que ele lubrificou a chuteira com camisinha pensando em paular essa chuteira da puma chuteira da puma meia nike huum eu gostei disso neymar com chuteira da puma e uma coisa estranha de se ver a chuteira é da puma o uniforme é nike mesmo miga daria um chute com a chuteira da puma na cara dele a chuteira n ficou boa em vc volta pra nike chuteira preta não combina com o homem não chuteira da puma n combina com ele por enquanto alooooo me da um but novo ou uma chuteira aceito qualquer um chuteira preta é título agora sim jogador raiz chuteira preta o hexa vem pensei que o neymar ia usar a chuteira de 1k do king da puma to vendo que neymar vai revolucionar a puma começar a lançar chuteira roupa tênis a puma não tem meia não jogador q vcs patrocinam cês deixa usa meia da nike com a chuteira da puma o carai vejo mais a logo da nike doq da puma muito estranho ver o neymar usando chuteira da puma mskskdkfkfk neymar só assinou com a puma pra usar a msm chuteira que o marinho e ver se ele joga que nem ele a puma ja mudou a forma da chuteira 😂 o homi e pica msm a chuteira puma king foi lançada na década de 60 e foi utilizada pelos maiores nomes da história da marca e do futebol mundial pelé maradona eusébio e cruyff enfim próxima chuteira da puma chuteira preta da puma estou iludido pra porra ja chuteira preta sem muita frescura de detalhes o hexa vem pai chuteira da puma com a meia da nike que saudade da minha exxx chuteira preta agora o hexa vem barões da pisadinha e chuteira preta da puma = hexa chuteira preta o hexa vem ele tá usando chuteira clássica meu patrão e eu que comprei uma chuteira preta da puma tem uns 3 meses entrei no hype antes do hype krlh pvt to no ódio se eu fosse o ney estreava a chuteira puma no peito dele neymar vai precisar de fazer o sobre de força pra levanta rô pé com essa chuteira de couro da puma neymar já até dobrou o meiao da nike pra poder mostrar só a chuteira puma '"
      ]
     },
     "execution_count": 27,
     "metadata": {},
     "output_type": "execute_result"
    }
   ],
   "source": [
    "# Retira as pontuações e os links\n",
    "\n",
    "Lista_IR_clean = cleanup(Irrelevantes.lower())\n",
    "Lista_IR_clean = clean_text(Lista_IR_clean)\n",
    "\n",
    "Lista_IR_clean\n"
   ]
  },
  {
   "cell_type": "code",
   "execution_count": 28,
   "metadata": {},
   "outputs": [
    {
     "data": {
      "text/plain": [
       "1759"
      ]
     },
     "execution_count": 28,
     "metadata": {},
     "output_type": "execute_result"
    }
   ],
   "source": [
    "# Serie de palavras Relevantes\n",
    "Palavras_relevantes = pd.Series(Lista_R_clean.split())\n",
    "\n",
    "len(Palavras_relevantes)"
   ]
  },
  {
   "cell_type": "code",
   "execution_count": 29,
   "metadata": {},
   "outputs": [
    {
     "data": {
      "text/plain": [
       "2105"
      ]
     },
     "execution_count": 29,
     "metadata": {},
     "output_type": "execute_result"
    }
   ],
   "source": [
    "# Serie de palavras Irrelevantes\n",
    "Palavras_irrelevantes = pd.Series(Lista_IR_clean.split())\n",
    "\n",
    "len(Palavras_irrelevantes)"
   ]
  },
  {
   "cell_type": "code",
   "execution_count": 30,
   "metadata": {},
   "outputs": [
    {
     "data": {
      "text/plain": [
       "chuteira    137\n",
       "puma        124\n",
       "da           99\n",
       "a            51\n",
       "que          42\n",
       "é            38\n",
       "uma          32\n",
       "do           26\n",
       "e            25\n",
       "essa         25\n",
       "de           25\n",
       "o            23\n",
       "eu           23\n",
       "preta        22\n",
       "neymar       19\n",
       "não          19\n",
       "comprar      16\n",
       "com          16\n",
       "vou          15\n",
       "mas          15\n",
       "pra          14\n",
       "feia         13\n",
       "ney          12\n",
       "um           12\n",
       "vai          11\n",
       "q            11\n",
       "só           11\n",
       "já           10\n",
       "tem          10\n",
       "no           10\n",
       "dtype: int64"
      ]
     },
     "execution_count": 30,
     "metadata": {},
     "output_type": "execute_result"
    }
   ],
   "source": [
    "# Tabela absoluta dos Relevantes.\n",
    "tabela_absoluta_relevantes = Palavras_relevantes.value_counts(ascending=False)\n",
    "\n",
    "\n",
    "tabela_absoluta_relevantes.head(30)"
   ]
  },
  {
   "cell_type": "code",
   "execution_count": 31,
   "metadata": {},
   "outputs": [
    {
     "data": {
      "text/plain": [
       "chuteira    154\n",
       "da          125\n",
       "puma        113\n",
       "a            83\n",
       "neymar       56\n",
       "o            55\n",
       "com          42\n",
       "preta        42\n",
       "e            42\n",
       "de           38\n",
       "do           33\n",
       "uma          28\n",
       "que          26\n",
       "não          21\n",
       "é            21\n",
       "nike         20\n",
       "pra          19\n",
       "hexa         17\n",
       "ney          17\n",
       "vai          17\n",
       "ele          16\n",
       "na           14\n",
       "essa         13\n",
       "tá           13\n",
       "q            13\n",
       "cara         13\n",
       "um           11\n",
       "eu           11\n",
       "só           11\n",
       "agora        11\n",
       "dtype: int64"
      ]
     },
     "execution_count": 31,
     "metadata": {},
     "output_type": "execute_result"
    }
   ],
   "source": [
    "# Tabela absoluta dos Irrelevantes.\n",
    "tabela_absoluta_irrelevantes = Palavras_irrelevantes.value_counts(ascending=False)\n",
    "\n",
    "\n",
    "tabela_absoluta_irrelevantes.head(30)"
   ]
  },
  {
   "cell_type": "code",
   "execution_count": 32,
   "metadata": {
    "scrolled": true
   },
   "outputs": [
    {
     "data": {
      "text/plain": [
       "chuteira       0.077885\n",
       "puma           0.070495\n",
       "da             0.056282\n",
       "a              0.028994\n",
       "que            0.023877\n",
       "                 ...   \n",
       "sobre          0.000569\n",
       "convenhamos    0.000569\n",
       "mc             0.000569\n",
       "mto            0.000569\n",
       "outro          0.000569\n",
       "Length: 561, dtype: float64"
      ]
     },
     "execution_count": 32,
     "metadata": {},
     "output_type": "execute_result"
    }
   ],
   "source": [
    "# Frequencia relativa dos Relevantes \n",
    "\n",
    "tabela_relativa_relevantes = Palavras_relevantes.value_counts(True)\n",
    "\n",
    "tabela_relativa_relevantes"
   ]
  },
  {
   "cell_type": "code",
   "execution_count": 33,
   "metadata": {},
   "outputs": [
    {
     "data": {
      "text/plain": [
       "1.0"
      ]
     },
     "execution_count": 33,
     "metadata": {},
     "output_type": "execute_result"
    }
   ],
   "source": [
    "tabela_relativa_relevantes.sum()"
   ]
  },
  {
   "cell_type": "code",
   "execution_count": 34,
   "metadata": {},
   "outputs": [
    {
     "data": {
      "text/plain": [
       "chuteira    0.073159\n",
       "da          0.059382\n",
       "puma        0.053682\n",
       "a           0.039430\n",
       "neymar      0.026603\n",
       "              ...   \n",
       "grande      0.000475\n",
       "pqp         0.000475\n",
       "uso         0.000475\n",
       "pura        0.000475\n",
       "combinou    0.000475\n",
       "Length: 613, dtype: float64"
      ]
     },
     "execution_count": 34,
     "metadata": {},
     "output_type": "execute_result"
    }
   ],
   "source": [
    "# Frequencia relativa dos Irrelevantes\n",
    "\n",
    "tabela_relativa_irrelevantes = Palavras_irrelevantes.value_counts(True)\n",
    "\n",
    "tabela_relativa_irrelevantes"
   ]
  },
  {
   "cell_type": "code",
   "execution_count": 35,
   "metadata": {},
   "outputs": [
    {
     "data": {
      "text/plain": [
       "0.9999999999999999"
      ]
     },
     "execution_count": 35,
     "metadata": {},
     "output_type": "execute_result"
    }
   ],
   "source": [
    "tabela_relativa_irrelevantes.sum()"
   ]
  },
  {
   "cell_type": "markdown",
   "metadata": {},
   "source": [
    "___\n",
    "## Classificador automático de sentimento\n"
   ]
  },
  {
   "cell_type": "markdown",
   "metadata": {},
   "source": [
    "Faça aqui uma descrição do seu produto e o que considerou como relevante ou não relevante na classificação dos tweets.\n",
    "\n",
    "ESCREVA AQUI..."
   ]
  },
  {
   "cell_type": "markdown",
   "metadata": {},
   "source": [
    "___\n",
    "### Montando um Classificador Naive-Bayes\n",
    "\n",
    "Considerando apenas as mensagens da planilha Treinamento, ensine  seu classificador."
   ]
  },
  {
   "cell_type": "code",
   "execution_count": 36,
   "metadata": {},
   "outputs": [
    {
     "name": "stdout",
     "output_type": "stream",
     "text": [
      "0.4552277432712215\n",
      "0.5447722567287785\n"
     ]
    }
   ],
   "source": [
    "total = len(Palavras_relevantes) + len(Palavras_irrelevantes)\n",
    "total_relevantes = len(Palavras_relevantes)/total\n",
    "total_irrelevantes = len(Palavras_irrelevantes)/total\n",
    "print(total_relevantes)\n",
    "print(total_irrelevantes)"
   ]
  },
  {
   "cell_type": "code",
   "execution_count": 37,
   "metadata": {},
   "outputs": [],
   "source": [
    "#palavras que nos selecionamos \n",
    "\n",
    "lista_palavras = ['chuteira','bonita','feia','quero','comprar','não','gostei','ruim','boa','puma','nike','adidas','melhor','pior']"
   ]
  },
  {
   "cell_type": "code",
   "execution_count": 38,
   "metadata": {},
   "outputs": [],
   "source": [
    "#probabilidade das palavras estarem como relevantes \n",
    "\n",
    "chuteira_r = (tabela_absoluta_relevantes['chuteira'] + 1)/(len(Palavras_relevantes) + len(lista_palavras))\n",
    "bonita_r = (tabela_absoluta_relevantes['bonita'] + 1)/(len(Palavras_relevantes) + len(lista_palavras))\n",
    "feia_r = (tabela_absoluta_relevantes['feia'] + 1)/(len(Palavras_relevantes) + len(lista_palavras))\n",
    "quero_r = (tabela_absoluta_relevantes['quero'] + 1)/(len(Palavras_relevantes) + len(lista_palavras))\n",
    "comprar_r = (tabela_absoluta_relevantes['comprar'] + 1)/(len(Palavras_relevantes) + len(lista_palavras))\n",
    "nao_r = (tabela_absoluta_relevantes['não'] + 1)/(len(Palavras_relevantes) + len(lista_palavras))\n",
    "gostei_r = (tabela_absoluta_relevantes['gostei'] + 1)/(len(Palavras_relevantes) + len(lista_palavras))\n",
    "ruim_r = (tabela_absoluta_relevantes['ruim'] + 1)/(len(Palavras_relevantes) + len(lista_palavras))\n",
    "boa_r = (tabela_absoluta_relevantes['boa'] + 1)/(len(Palavras_relevantes) + len(lista_palavras))\n",
    "puma_r = (tabela_absoluta_relevantes['puma'] + 1)/(len(Palavras_relevantes) + len(lista_palavras))\n",
    "nike_r = (tabela_absoluta_relevantes['nike'] + 1)/(len(Palavras_relevantes) + len(lista_palavras))\n",
    "adidas_r = (tabela_absoluta_relevantes['adidas'] + 1)/(len(Palavras_relevantes) + len(lista_palavras))\n",
    "melhor_r = (tabela_absoluta_relevantes['melhor'] + 1)/(len(Palavras_relevantes) + len(lista_palavras))"
   ]
  },
  {
   "cell_type": "code",
   "execution_count": 40,
   "metadata": {},
   "outputs": [],
   "source": [
    "#probabilidade das palavras estarem como irrelevantes \n",
    "\n",
    "chuteira_ir = (tabela_absoluta_irrelevantes['chuteira'] + 1)/(len(Palavras_irrelevantes) + len(lista_palavras))\n",
    "bonita_ir = (tabela_absoluta_irrelevantes['bonita'] + 1)/(len(Palavras_irrelevantes) + len(lista_palavras))\n",
    "feia_ir = (tabela_absoluta_irrelevantes['feia'] + 1)/(len(Palavras_irrelevantes) + len(lista_palavras))\n",
    "quero_ir = (tabela_absoluta_irrelevantes['quero'] + 1)/(len(Palavras_irrelevantes) + len(lista_palavras))\n",
    "comprar_ir = (tabela_absoluta_irrelevantes['comprar'] + 1)/(len(Palavras_irrelevantes) + len(lista_palavras))\n",
    "nao_ir = (tabela_absoluta_irrelevantes['não'] + 1)/(len(Palavras_irrelevantes) + len(lista_palavras))\n",
    "gostei_ir = (tabela_absoluta_irrelevantes['gostei'] + 1)/(len(Palavras_irrelevantes) + len(lista_palavras))\n",
    "ruim_ir = (0 + 1)/(len(Palavras_irrelevantes) + len(lista_palavras))\n",
    "boa_ir = (tabela_absoluta_irrelevantes['boa'] + 1)/(len(Palavras_irrelevantes) + len(lista_palavras))\n",
    "puma_ir = (tabela_absoluta_irrelevantes['puma'] + 1)/(len(Palavras_irrelevantes) + len(lista_palavras))\n",
    "nike_ir = (tabela_absoluta_irrelevantes['nike'] + 1)/(len(Palavras_irrelevantes) + len(lista_palavras))\n",
    "adidas_ir = (tabela_absoluta_irrelevantes['adidas'] + 1)/(len(Palavras_irrelevantes) + len(lista_palavras))\n",
    "melhor_ir = (tabela_absoluta_irrelevantes['melhor'] + 1)/(len(Palavras_irrelevantes) + len(lista_palavras))"
   ]
  },
  {
   "cell_type": "code",
   "execution_count": 41,
   "metadata": {},
   "outputs": [
    {
     "data": {
      "text/plain": [
       "0.00013957548105534616"
      ]
     },
     "execution_count": 41,
     "metadata": {},
     "output_type": "execute_result"
    }
   ],
   "source": [
    "P_chuteira_bonita_r = chuteira_r * bonita_r * total_relevantes\n",
    "P_chuteira_bonita_r"
   ]
  },
  {
   "cell_type": "code",
   "execution_count": 42,
   "metadata": {},
   "outputs": [
    {
     "data": {
      "text/plain": [
       "3.754009257149466e-05"
      ]
     },
     "execution_count": 42,
     "metadata": {},
     "output_type": "execute_result"
    }
   ],
   "source": [
    "P_chuteira_bonita_ir = chuteira_ir * bonita_ir * total_irrelevantes\n",
    "P_chuteira_bonita_ir"
   ]
  },
  {
   "cell_type": "code",
   "execution_count": 43,
   "metadata": {},
   "outputs": [
    {
     "data": {
      "text/plain": [
       "0.0002791509621106923"
      ]
     },
     "execution_count": 43,
     "metadata": {},
     "output_type": "execute_result"
    }
   ],
   "source": [
    "P_chuteira_feia_r = chuteira_r * feia_r * total_relevantes\n",
    "P_chuteira_feia_r"
   ]
  },
  {
   "cell_type": "code",
   "execution_count": 44,
   "metadata": {},
   "outputs": [
    {
     "data": {
      "text/plain": [
       "3.754009257149466e-05"
      ]
     },
     "execution_count": 44,
     "metadata": {},
     "output_type": "execute_result"
    }
   ],
   "source": [
    "P_chuteira_feia_ir = chuteira_ir * feia_ir * total_irrelevantes\n",
    "P_chuteira_feia_ir"
   ]
  },
  {
   "cell_type": "code",
   "execution_count": 45,
   "metadata": {},
   "outputs": [
    {
     "data": {
      "text/plain": [
       "5.7290539507627e-07"
      ]
     },
     "execution_count": 45,
     "metadata": {},
     "output_type": "execute_result"
    }
   ],
   "source": [
    "P_quero_comprar_chuteira_r = quero_r * comprar_r * chuteira_r * total_relevantes\n",
    "P_quero_comprar_chuteira_r"
   ]
  },
  {
   "cell_type": "code",
   "execution_count": 46,
   "metadata": {},
   "outputs": [
    {
     "data": {
      "text/plain": [
       "1.0619545281893823e-07"
      ]
     },
     "execution_count": 46,
     "metadata": {},
     "output_type": "execute_result"
    }
   ],
   "source": [
    "P_quero_comprar_chuteira_ir = quero_ir * comprar_ir * chuteira_ir * total_irrelevantes\n",
    "P_quero_comprar_chuteira_ir"
   ]
  },
  {
   "cell_type": "code",
   "execution_count": null,
   "metadata": {},
   "outputs": [],
   "source": []
  },
  {
   "cell_type": "markdown",
   "metadata": {},
   "source": [
    "___\n",
    "### Verificando a performance do Classificador\n",
    "\n",
    "Agora você deve testar o seu classificador com a base de Testes."
   ]
  },
  {
   "cell_type": "code",
   "execution_count": null,
   "metadata": {},
   "outputs": [],
   "source": [
    "frase_test = []\n",
    "r = 1\n",
    "i = 1\n",
    "for x in frase:\n",
    "    x *=\n",
    "    i *= \n",
    "    \n",
    "    \n",
    "    \n",
    "R= total*r\n",
    "I= total*i"
   ]
  },
  {
   "cell_type": "code",
   "execution_count": null,
   "metadata": {},
   "outputs": [],
   "source": []
  },
  {
   "cell_type": "code",
   "execution_count": null,
   "metadata": {},
   "outputs": [],
   "source": []
  },
  {
   "cell_type": "markdown",
   "metadata": {},
   "source": [
    "___\n",
    "### Concluindo"
   ]
  },
  {
   "cell_type": "code",
   "execution_count": null,
   "metadata": {},
   "outputs": [],
   "source": []
  },
  {
   "cell_type": "code",
   "execution_count": null,
   "metadata": {},
   "outputs": [],
   "source": []
  },
  {
   "cell_type": "markdown",
   "metadata": {},
   "source": [
    "___\n",
    "## Aperfeiçoamento:\n",
    "\n",
    "Os trabalhos vão evoluir em conceito dependendo da quantidade de itens avançados:\n",
    "\n",
    "* Limpar: \\n, :, \", ', (, ), etc SEM remover emojis\n",
    "* Corrigir separação de espaços entre palavras e emojis ou entre emojis e emojis\n",
    "* Propor outras limpezas e transformações que não afetem a qualidade da informação ou classificação\n",
    "* Criar categorias intermediárias de relevância baseadas na probabilidade: ex.: muito relevante, relevante, neutro, irrelevante, muito irrelevante (3 categorias: C, mais categorias conta para B)\n",
    "* Explicar por que não posso usar o próprio classificador para gerar mais amostras de treinamento\n",
    "* Propor diferentes cenários para Naïve Bayes fora do contexto do projeto\n",
    "* Sugerir e explicar melhorias reais com indicações concretas de como implementar (indicar como fazer e indicar material de pesquisa)\n",
    "* Montar um dashboard que realiza análise de sentimento e visualiza estes dados"
   ]
  },
  {
   "cell_type": "markdown",
   "metadata": {},
   "source": [
    "___\n",
    "## Referências"
   ]
  },
  {
   "cell_type": "markdown",
   "metadata": {},
   "source": [
    "[Naive Bayes and Text Classification](https://arxiv.org/pdf/1410.5329.pdf)  **Mais completo**\n",
    "\n",
    "[A practical explanation of a Naive Bayes Classifier](https://monkeylearn.com/blog/practical-explanation-naive-bayes-classifier/) **Mais simples**"
   ]
  },
  {
   "cell_type": "code",
   "execution_count": null,
   "metadata": {},
   "outputs": [],
   "source": []
  }
 ],
 "metadata": {
  "kernelspec": {
   "display_name": "Python 3",
   "language": "python",
   "name": "python3"
  },
  "language_info": {
   "codemirror_mode": {
    "name": "ipython",
    "version": 3
   },
   "file_extension": ".py",
   "mimetype": "text/x-python",
   "name": "python",
   "nbconvert_exporter": "python",
   "pygments_lexer": "ipython3",
   "version": "3.7.4"
  }
 },
 "nbformat": 4,
 "nbformat_minor": 4
}
