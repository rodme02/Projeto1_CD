{
 "cells": [
  {
   "cell_type": "markdown",
   "metadata": {},
   "source": [
    "# Projeto 1 - Ciência dos Dados"
   ]
  },
  {
   "cell_type": "markdown",
   "metadata": {},
   "source": [
    "Nome: Vitor Fortes Giuliano Riccetti \n",
    "\n",
    "Nome: Rodrigo Paoliello de Medeiros"
   ]
  },
  {
   "cell_type": "markdown",
   "metadata": {},
   "source": [
    "**Atenção:** Serão permitidos grupos de três pessoas, mas com uma rubrica mais exigente. Grupos deste tamanho precisarão fazer um questionário de avaliação de trabalho em equipe"
   ]
  },
  {
   "cell_type": "markdown",
   "metadata": {},
   "source": [
    "___\n",
    "Carregando algumas bibliotecas:"
   ]
  },
  {
   "cell_type": "code",
   "execution_count": 114,
   "metadata": {},
   "outputs": [],
   "source": [
    "%matplotlib inline\n",
    "import pandas as pd\n",
    "import matplotlib.pyplot as plt\n",
    "import numpy as np\n",
    "import os\n",
    "import re "
   ]
  },
  {
   "cell_type": "markdown",
   "metadata": {},
   "source": [
    "**Em `filename`, coloque o nome do seu arquivo de dados!**"
   ]
  },
  {
   "cell_type": "code",
   "execution_count": 115,
   "metadata": {
    "scrolled": false
   },
   "outputs": [
    {
     "name": "stdout",
     "output_type": "stream",
     "text": [
      "Encontrei o arquivo Chuteira_Puma.xlsx, tudo certo para prosseguir com a prova!\n"
     ]
    }
   ],
   "source": [
    "import os\n",
    "\n",
    "filename = 'Chuteira_Puma.xlsx'\n",
    "if filename in os.listdir():\n",
    "    print(f'Encontrei o arquivo {filename}, tudo certo para prosseguir com a prova!')\n",
    "else:\n",
    "    print(f'Não encontrei o arquivo {filename} aqui no diretório {os.getcwd()}, será que você não baixou o arquivo?')"
   ]
  },
  {
   "cell_type": "markdown",
   "metadata": {},
   "source": [
    "Carregando a base de dados com os tweets classificados como relevantes e não relevantes:"
   ]
  },
  {
   "cell_type": "code",
   "execution_count": 116,
   "metadata": {},
   "outputs": [],
   "source": [
    "# Faz a leitura do excel \n",
    "train = pd.read_excel(filename)\n",
    "train.head(5)\n",
    "\n",
    "train[\"Relevante\"]= train[\"Relevante\"].astype(str)\n",
    "train[\"Irrelevante\"]= train[\"Irrelevante\"].astype(str)\n",
    "\n"
   ]
  },
  {
   "cell_type": "code",
   "execution_count": 117,
   "metadata": {},
   "outputs": [
    {
     "data": {
      "text/html": [
       "<div>\n",
       "<style scoped>\n",
       "    .dataframe tbody tr th:only-of-type {\n",
       "        vertical-align: middle;\n",
       "    }\n",
       "\n",
       "    .dataframe tbody tr th {\n",
       "        vertical-align: top;\n",
       "    }\n",
       "\n",
       "    .dataframe thead th {\n",
       "        text-align: right;\n",
       "    }\n",
       "</style>\n",
       "<table border=\"1\" class=\"dataframe\">\n",
       "  <thead>\n",
       "    <tr style=\"text-align: right;\">\n",
       "      <th></th>\n",
       "      <th>Teste</th>\n",
       "      <th>Relevante</th>\n",
       "      <th>Irrelevante</th>\n",
       "    </tr>\n",
       "  </thead>\n",
       "  <tbody>\n",
       "    <tr>\n",
       "      <td>0</td>\n",
       "      <td>NaN</td>\n",
       "      <td>@gathlos de níver atrasado quero uma chuteira ...</td>\n",
       "      <td>\"o rei está de volta!\"\\n\\na puma confirmou hoj...</td>\n",
       "    </tr>\n",
       "    <tr>\n",
       "      <td>1</td>\n",
       "      <td>NaN</td>\n",
       "      <td>@neymarjrdepre @neymarjr @puma essa chuteira é...</td>\n",
       "      <td>@bergonsi_carlos chuteira preta da puma, é ami...</td>\n",
       "    </tr>\n",
       "    <tr>\n",
       "      <td>2</td>\n",
       "      <td>NaN</td>\n",
       "      <td>era só essa chuteira da puma na minha vida</td>\n",
       "      <td>@bernardoqac chuteira preta da puma e barões, ...</td>\n",
       "    </tr>\n",
       "    <tr>\n",
       "      <td>3</td>\n",
       "      <td>NaN</td>\n",
       "      <td>@manassescruz1 @juancrf19 @futebol_info @puma_...</td>\n",
       "      <td>@danilindo____ @neymarjrdepre @breninhoo___ @n...</td>\n",
       "    </tr>\n",
       "    <tr>\n",
       "      <td>4</td>\n",
       "      <td>NaN</td>\n",
       "      <td>só a chuteira da puma na minha vida mesmo.</td>\n",
       "      <td>@futtmais posta as fotos d ney com a nova chut...</td>\n",
       "    </tr>\n",
       "  </tbody>\n",
       "</table>\n",
       "</div>"
      ],
      "text/plain": [
       "   Teste                                          Relevante  \\\n",
       "0    NaN  @gathlos de níver atrasado quero uma chuteira ...   \n",
       "1    NaN  @neymarjrdepre @neymarjr @puma essa chuteira é...   \n",
       "2    NaN         era só essa chuteira da puma na minha vida   \n",
       "3    NaN  @manassescruz1 @juancrf19 @futebol_info @puma_...   \n",
       "4    NaN         só a chuteira da puma na minha vida mesmo.   \n",
       "\n",
       "                                         Irrelevante  \n",
       "0  \"o rei está de volta!\"\\n\\na puma confirmou hoj...  \n",
       "1  @bergonsi_carlos chuteira preta da puma, é ami...  \n",
       "2  @bernardoqac chuteira preta da puma e barões, ...  \n",
       "3  @danilindo____ @neymarjrdepre @breninhoo___ @n...  \n",
       "4  @futtmais posta as fotos d ney com a nova chut...  "
      ]
     },
     "execution_count": 117,
     "metadata": {},
     "output_type": "execute_result"
    }
   ],
   "source": [
    "test = pd.read_excel(filename, sheet_name = 'Teste')\n",
    "test.head(5)"
   ]
  },
  {
   "cell_type": "code",
   "execution_count": 118,
   "metadata": {},
   "outputs": [],
   "source": [
    "# dividimos em duas categorias relevante e irrelevante:\n",
    "\n",
    "Relevantes = ''.join(train.Relevante)\n",
    "\n",
    "Irrelevantes = ' '.join(train.Irrelevante)\n"
   ]
  },
  {
   "cell_type": "code",
   "execution_count": 119,
   "metadata": {},
   "outputs": [],
   "source": [
    "# Função para limpar a string\n",
    "def cleanup(text):\n",
    "    \"\"\"\n",
    "        Função de limpeza muito simples que troca alguns sinais básicos por espaços\n",
    "    \"\"\"\n",
    "    #import string\n",
    "    text = re.sub(r'@\\S+', ' ', text, flags=re.MULTILINE)\n",
    "    text = re.sub(r'_', ' ', text, flags=re.MULTILINE)\n",
    "    text = re.sub(r'\\n', ' ', text, flags=re.MULTILINE)\n",
    "    #text = re.sub(r'kk\\S+', ' ', text, flags=re.MULTILINE)\n",
    "    text = re.sub(r'http\\S+', ' ', text, flags=re.MULTILINE)\n",
    "    text = re.sub(r'https\\S+', ' ', text, flags=re.MULTILINE)\n",
    "    punctuation = '[!-.:?;“”_]' # Note que os sinais [] são delimitadores de um conjunto.\n",
    "\n",
    "    pattern = re.compile(punctuation)\n",
    "    text_subbed = re.sub(pattern, ' ', text)\n",
    "    return text_subbed\n"
   ]
  },
  {
   "cell_type": "code",
   "execution_count": 120,
   "metadata": {},
   "outputs": [],
   "source": [
    "# Retira as pontuações e os links\n",
    "\n",
    "Lista_R_clean = cleanup(Relevantes.lower())\n",
    "#Lista_R_clean\n",
    "\n"
   ]
  },
  {
   "cell_type": "code",
   "execution_count": 121,
   "metadata": {},
   "outputs": [],
   "source": [
    "# Retira as pontuações e os links\n",
    "\n",
    "Lista_IR_clean = cleanup(Irrelevantes.lower())\n",
    "#Lista_IR_clean\n"
   ]
  },
  {
   "cell_type": "code",
   "execution_count": 122,
   "metadata": {},
   "outputs": [
    {
     "data": {
      "text/plain": [
       "1745"
      ]
     },
     "execution_count": 122,
     "metadata": {},
     "output_type": "execute_result"
    }
   ],
   "source": [
    "# Serie de palavras Relevantes\n",
    "Palavras_relevantes = pd.Series(Lista_R_clean.split())\n",
    "\n",
    "len(Palavras_relevantes)"
   ]
  },
  {
   "cell_type": "code",
   "execution_count": 123,
   "metadata": {},
   "outputs": [
    {
     "data": {
      "text/plain": [
       "2089"
      ]
     },
     "execution_count": 123,
     "metadata": {},
     "output_type": "execute_result"
    }
   ],
   "source": [
    "# Serie de palavras Irrelevantes\n",
    "Palavras_irrelevantes = pd.Series(Lista_IR_clean.split())\n",
    "\n",
    "len(Palavras_irrelevantes)"
   ]
  },
  {
   "cell_type": "code",
   "execution_count": 124,
   "metadata": {},
   "outputs": [
    {
     "data": {
      "text/plain": [
       "chuteira    136\n",
       "puma        122\n",
       "da           99\n",
       "a            49\n",
       "que          42\n",
       "é            38\n",
       "uma          32\n",
       "do           26\n",
       "de           25\n",
       "e            25\n",
       "o            23\n",
       "eu           23\n",
       "essa         23\n",
       "preta        22\n",
       "não          19\n",
       "neymar       19\n",
       "comprar      16\n",
       "com          16\n",
       "mas          15\n",
       "vou          15\n",
       "pra          14\n",
       "feia         13\n",
       "ney          12\n",
       "um           12\n",
       "vai          11\n",
       "só           11\n",
       "q            11\n",
       "mais         10\n",
       "tem          10\n",
       "no           10\n",
       "dtype: int64"
      ]
     },
     "execution_count": 124,
     "metadata": {},
     "output_type": "execute_result"
    }
   ],
   "source": [
    "# Tabela absoluta dos Relevantes.\n",
    "tabela_absoluta_relevantes = Palavras_relevantes.value_counts(ascending=False)\n",
    "\n",
    "\n",
    "tabela_absoluta_relevantes.head(30)"
   ]
  },
  {
   "cell_type": "code",
   "execution_count": 125,
   "metadata": {},
   "outputs": [
    {
     "data": {
      "text/plain": [
       "chuteira    154\n",
       "da          125\n",
       "puma        113\n",
       "a            83\n",
       "neymar       56\n",
       "o            55\n",
       "e            42\n",
       "preta        42\n",
       "com          42\n",
       "de           38\n",
       "do           33\n",
       "uma          28\n",
       "que          26\n",
       "é            21\n",
       "não          21\n",
       "nike         20\n",
       "pra          19\n",
       "ney          17\n",
       "hexa         17\n",
       "vai          17\n",
       "ele          16\n",
       "na           14\n",
       "q            13\n",
       "tá           13\n",
       "essa         13\n",
       "cara         13\n",
       "só           11\n",
       "agora        11\n",
       "um           11\n",
       "eu           11\n",
       "dtype: int64"
      ]
     },
     "execution_count": 125,
     "metadata": {},
     "output_type": "execute_result"
    }
   ],
   "source": [
    "# Tabela absoluta dos Irrelevantes.\n",
    "tabela_absoluta_irrelevantes = Palavras_irrelevantes.value_counts(ascending=False)\n",
    "\n",
    "\n",
    "tabela_absoluta_irrelevantes.head(30)"
   ]
  },
  {
   "cell_type": "code",
   "execution_count": 126,
   "metadata": {
    "scrolled": true
   },
   "outputs": [
    {
     "data": {
      "text/plain": [
       "chuteira       0.077937\n",
       "puma           0.069914\n",
       "da             0.056734\n",
       "a              0.028080\n",
       "que            0.024069\n",
       "                 ...   \n",
       "kkkkkqueria    0.000573\n",
       "geral          0.000573\n",
       "renovar        0.000573\n",
       "animal         0.000573\n",
       "pagar          0.000573\n",
       "Length: 572, dtype: float64"
      ]
     },
     "execution_count": 126,
     "metadata": {},
     "output_type": "execute_result"
    }
   ],
   "source": [
    "# Frequencia relativa dos Relevantes \n",
    "\n",
    "tabela_relativa_relevantes = Palavras_relevantes.value_counts(True)\n",
    "\n",
    "tabela_relativa_relevantes"
   ]
  },
  {
   "cell_type": "code",
   "execution_count": 127,
   "metadata": {},
   "outputs": [
    {
     "data": {
      "text/plain": [
       "1.0"
      ]
     },
     "execution_count": 127,
     "metadata": {},
     "output_type": "execute_result"
    }
   ],
   "source": [
    "tabela_relativa_relevantes.sum()"
   ]
  },
  {
   "cell_type": "code",
   "execution_count": 128,
   "metadata": {},
   "outputs": [
    {
     "data": {
      "text/plain": [
       "chuteira       0.077937\n",
       "puma           0.069914\n",
       "da             0.056734\n",
       "a              0.028080\n",
       "que            0.024069\n",
       "                 ...   \n",
       "kkkkkqueria    0.000573\n",
       "geral          0.000573\n",
       "renovar        0.000573\n",
       "animal         0.000573\n",
       "pagar          0.000573\n",
       "Length: 572, dtype: float64"
      ]
     },
     "execution_count": 128,
     "metadata": {},
     "output_type": "execute_result"
    }
   ],
   "source": [
    "# Frequencia relativa dos Irrelevantes\n",
    "\n",
    "tabela_relativa_irrelevantes = Palavras_irrelevantes.value_counts(True)\n",
    "\n",
    "tabela_relativa_relevantes"
   ]
  },
  {
   "cell_type": "code",
   "execution_count": null,
   "metadata": {},
   "outputs": [],
   "source": [
    "tabela_relativa_irrelevantes.sum()"
   ]
  },
  {
   "cell_type": "markdown",
   "metadata": {},
   "source": [
    "___\n",
    "## Classificador automático de sentimento\n"
   ]
  },
  {
   "cell_type": "markdown",
   "metadata": {},
   "source": [
    "Faça aqui uma descrição do seu produto e o que considerou como relevante ou não relevante na classificação dos tweets.\n",
    "\n",
    "ESCREVA AQUI..."
   ]
  },
  {
   "cell_type": "markdown",
   "metadata": {},
   "source": [
    "___\n",
    "### Montando um Classificador Naive-Bayes\n",
    "\n",
    "Considerando apenas as mensagens da planilha Treinamento, ensine  seu classificador."
   ]
  },
  {
   "cell_type": "code",
   "execution_count": 101,
   "metadata": {},
   "outputs": [
    {
     "ename": "SyntaxError",
     "evalue": "invalid syntax (<ipython-input-101-953eac6f7a48>, line 1)",
     "output_type": "error",
     "traceback": [
      "\u001b[1;36m  File \u001b[1;32m\"<ipython-input-101-953eac6f7a48>\"\u001b[1;36m, line \u001b[1;32m1\u001b[0m\n\u001b[1;33m    P(palavra|Relevante) =\u001b[0m\n\u001b[1;37m                           ^\u001b[0m\n\u001b[1;31mSyntaxError\u001b[0m\u001b[1;31m:\u001b[0m invalid syntax\n"
     ]
    }
   ],
   "source": [
    "P(palavra|Relevante) = \n",
    "\n",
    "P(palavra) = \n",
    "\n",
    "P(Relevantes) = "
   ]
  },
  {
   "cell_type": "code",
   "execution_count": null,
   "metadata": {},
   "outputs": [],
   "source": [
    "P(Relevante|palavra) = (P(palavra|Relevante) * P(Relevantes)) / P(palavra)"
   ]
  },
  {
   "cell_type": "code",
   "execution_count": null,
   "metadata": {},
   "outputs": [],
   "source": []
  },
  {
   "cell_type": "markdown",
   "metadata": {},
   "source": [
    "___\n",
    "### Verificando a performance do Classificador\n",
    "\n",
    "Agora você deve testar o seu classificador com a base de Testes."
   ]
  },
  {
   "cell_type": "code",
   "execution_count": null,
   "metadata": {},
   "outputs": [],
   "source": []
  },
  {
   "cell_type": "code",
   "execution_count": null,
   "metadata": {},
   "outputs": [],
   "source": []
  },
  {
   "cell_type": "code",
   "execution_count": null,
   "metadata": {},
   "outputs": [],
   "source": []
  },
  {
   "cell_type": "markdown",
   "metadata": {},
   "source": [
    "___\n",
    "### Concluindo"
   ]
  },
  {
   "cell_type": "code",
   "execution_count": null,
   "metadata": {},
   "outputs": [],
   "source": []
  },
  {
   "cell_type": "code",
   "execution_count": null,
   "metadata": {},
   "outputs": [],
   "source": []
  },
  {
   "cell_type": "markdown",
   "metadata": {},
   "source": [
    "___\n",
    "## Aperfeiçoamento:\n",
    "\n",
    "Os trabalhos vão evoluir em conceito dependendo da quantidade de itens avançados:\n",
    "\n",
    "* Limpar: \\n, :, \", ', (, ), etc SEM remover emojis\n",
    "* Corrigir separação de espaços entre palavras e emojis ou entre emojis e emojis\n",
    "* Propor outras limpezas e transformações que não afetem a qualidade da informação ou classificação\n",
    "* Criar categorias intermediárias de relevância baseadas na probabilidade: ex.: muito relevante, relevante, neutro, irrelevante, muito irrelevante (3 categorias: C, mais categorias conta para B)\n",
    "* Explicar por que não posso usar o próprio classificador para gerar mais amostras de treinamento\n",
    "* Propor diferentes cenários para Naïve Bayes fora do contexto do projeto\n",
    "* Sugerir e explicar melhorias reais com indicações concretas de como implementar (indicar como fazer e indicar material de pesquisa)\n",
    "* Montar um dashboard que realiza análise de sentimento e visualiza estes dados"
   ]
  },
  {
   "cell_type": "markdown",
   "metadata": {},
   "source": [
    "___\n",
    "## Referências"
   ]
  },
  {
   "cell_type": "markdown",
   "metadata": {},
   "source": [
    "[Naive Bayes and Text Classification](https://arxiv.org/pdf/1410.5329.pdf)  **Mais completo**\n",
    "\n",
    "[A practical explanation of a Naive Bayes Classifier](https://monkeylearn.com/blog/practical-explanation-naive-bayes-classifier/) **Mais simples**"
   ]
  },
  {
   "cell_type": "code",
   "execution_count": null,
   "metadata": {},
   "outputs": [],
   "source": []
  }
 ],
 "metadata": {
  "kernelspec": {
   "display_name": "Python 3",
   "language": "python",
   "name": "python3"
  },
  "language_info": {
   "codemirror_mode": {
    "name": "ipython",
    "version": 3
   },
   "file_extension": ".py",
   "mimetype": "text/x-python",
   "name": "python",
   "nbconvert_exporter": "python",
   "pygments_lexer": "ipython3",
   "version": "3.7.4"
  }
 },
 "nbformat": 4,
 "nbformat_minor": 4
}
